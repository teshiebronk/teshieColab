{
  "nbformat": 4,
  "nbformat_minor": 0,
  "metadata": {
    "colab": {
      "name": "assignment_6_ENGS_108_Fall_2021.ipynb",
      "provenance": [],
      "collapsed_sections": [],
      "include_colab_link": true
    },
    "kernelspec": {
      "display_name": "Python 3",
      "language": "python",
      "name": "python3"
    },
    "language_info": {
      "codemirror_mode": {
        "name": "ipython",
        "version": 3
      },
      "file_extension": ".py",
      "mimetype": "text/x-python",
      "name": "python",
      "nbconvert_exporter": "python",
      "pygments_lexer": "ipython3",
      "version": "3.8.3"
    }
  },
  "cells": [
    {
      "cell_type": "markdown",
      "metadata": {
        "id": "view-in-github",
        "colab_type": "text"
      },
      "source": [
        "<a href=\"https://colab.research.google.com/github/teshiebronk/teshieColab/blob/main/assignment_6_ENGS_108_Fall_2021.ipynb\" target=\"_parent\"><img src=\"https://colab.research.google.com/assets/colab-badge.svg\" alt=\"Open In Colab\"/></a>"
      ]
    },
    {
      "cell_type": "markdown",
      "metadata": {
        "id": "5BiHNk7HcRiL"
      },
      "source": [
        "# **ENGS 108 Fall 2021 Assignment 6**\n",
        "\n",
        "*Due October 23 2021\n",
        "\n",
        "**Instructors:** George Cybenko\n",
        "\n",
        "**TAs:** Clement Nyanhongo, Jack Sadoff\n",
        "\n",
        "\n",
        "---\n",
        "\n",
        "## **Rules and Requirements**\n",
        "\n",
        "\n",
        "1.   You are only allowed to use Python packages that are explicity imported in \n",
        "the assignment notebook or are standard (bultin) python libraries like random, os, sys, etc, (Standard Bultin Python libraries will have a Python.org documentation). For this assignment you may use:\n",
        "  *   [numpy](https://numpy.org/doc/stable/)\n",
        "  *   [pandas](https://pandas.pydata.org/pandas-docs/stable/index.html)\n",
        "  *   [scikit-learn](https://scikit-learn.org/stable/)\n",
        "  *   [matplotlib](https://matplotlib.org/)\n",
        "  *   [tensorflow](https://www.tensorflow.org/)\n",
        "\n",
        "2.   All code must be fit into the designated code or text blocks in the assignment notebook. They are indentified by a **TODO** qualifier.\n",
        "\n",
        "3. For analytical questions that don't require code, type your answer cleanly in Markdown. For help, see the [Google Colab Markdown Guide](https://colab.research.google.com/notebooks/markdown_guide.ipynb).\n",
        "\n",
        "---"
      ]
    },
    {
      "cell_type": "code",
      "metadata": {
        "id": "_KqjPtWlcFnS"
      },
      "source": [
        "''' Import Statements '''\n",
        "from collections import defaultdict\n",
        "import copy\n",
        "import itertools\n",
        "import numpy as np\n",
        "\n",
        "import random\n",
        "# Don't mess with this (gives reproducible results)\n",
        "random.seed(444)"
      ],
      "execution_count": 1,
      "outputs": []
    },
    {
      "cell_type": "markdown",
      "metadata": {
        "id": "0otRQ4_CcxP4"
      },
      "source": [
        "## **Problem 1: Reinforcement Learning**\n",
        "In this problem we will play a game of cops and robbers. The game is played on a fixed undirected, simple, and finite graph $G$. There are two players, a cop and a robber. It is the goal of the cop to catch the robber in as few moves as possible. \n",
        "\n",
        "The graph $G$ has the following properties:\n",
        "  - A total of $m$ nodes.\n",
        "  - It contains a single $n$ node cycle, where $n\\leq m$, and random additional edges to make the graph connected.\n",
        "\n",
        "The game starts, with the cop taking their choice of vertex in $G$ and then the robber selects a random vertex in $G$ that is not occupied by the cop. At every point in the game both players know the positions of each other, and in this version of the problem we will say that the robber is drunk (i.e. they will randomly choose there next that instead of employing a policy).\n",
        "\n",
        "The availabe actions of the cop and associated reward function is:\n",
        "  - Move to a node not connected to their present node (and the cop stays in the current position): -5.\n",
        "  - Move to an adjacent node (including staying at current node): -1.\n",
        "  - Move to the node occupied by robber: +100.\n",
        ">\n",
        "> **Part 1** Building a Graph Class.\n",
        ">> **(a)** Using the provided skeleton build a general graph class for this problem for $n$ nodes. You are expected to implement *add_edge*, *make_random_graph*, *check_connected*."
      ]
    },
    {
      "cell_type": "code",
      "metadata": {
        "id": "jaHjFProBqKc"
      },
      "source": [
        "import random\n",
        "class Graph:\n",
        "  \"\"\" Our graph class.\n",
        "  Args:\n",
        "    n: Number of nodes in our cycle.\n",
        "    m: Total number of nodes in graph, where n >= m.\n",
        "  \"\"\"\n",
        "  def __init__(self, n, m):\n",
        "    self.n = n\n",
        "    self.m = m\n",
        "    # A default dict is just a dict that won't raise a KeyError, it instead fillsds\n",
        "    # the unknown key with a default, in our case an empty list.\n",
        "    self.G = defaultdict(list) #dictionary just links a key to some value\n",
        "    #difference between this and a regular dictionary \n",
        "    #key is node and this is linked to list of everything its attached\n",
        "\n",
        "    \n",
        "  def add_edge(self, u, v):\n",
        "    \"\"\"\n",
        "    Make a function that will add an edge to the graph.\n",
        "    \"\"\"\n",
        "    self.G[u].append(v)\n",
        "    self.G[v].append(u)\n",
        "\n",
        "\n",
        "  def make_random_graph(self):\n",
        "    \"\"\" First make a cycle of given length and then add random additional edges\n",
        "    in such a way that the final graph will be connected.\n",
        "    \"\"\"\n",
        "    #TODO: Make n length cycle first\n",
        "    print(\"here\")\n",
        "    for i in range((self.n)-1):\n",
        "      if i == self.n -1:\n",
        "        print(\"m\")\n",
        "        continue #break out of loop\n",
        "      self.add_edge(i,i+1)\n",
        "    self.add_edge(0,self.n-1) #ie. make the final to first connection\n",
        "\n",
        "\n",
        "    #TODO: Add additional nodes until random graph is connected\n",
        "    total_ext = self.m\n",
        "    counter = self.n\n",
        "    while counter < total_ext:\n",
        "      _graph = copy.copy(self)\n",
        "      #TODO: Use the graph copy to add random nodes/edges\n",
        "      node_to_add_on = random.randint(0, self.n -1)\n",
        "      if len(self.G[node_to_add_on]) != 2:\n",
        "        temp_node = self.G[node_to_add_on][-1]\n",
        "        self.add_edge(temp_node,counter)\n",
        "      else:\n",
        "        self.add_edge(node_to_add_on,counter)\n",
        "      counter = counter + 1\n",
        "\n",
        "    if self.check_connected(_graph.G):\n",
        "      # If it is set the current graph's adjacency matrix equal to the copy's.\n",
        "      print('true')\n",
        "      self.graph = _graph.G\n",
        "      # Return (i.e. break the loop)\n",
        "      return True\n",
        "    else:\n",
        "      return False\n",
        "\n",
        "  def check_connected(self, G):\n",
        "    \"\"\" Perform a Depth First Search.\n",
        "    \"\"\"\n",
        "    start_node = random.choice(list(G.keys()))\n",
        "    return dfs(G, start_node, self.m)\n",
        "\n",
        "def dfs(G,u,m):\n",
        "  \"\"\" Implement your own depth first search. Many online resources for this.\n",
        "  Args:\n",
        "    G: Is the graph (adjency matrix) we want to test.\n",
        "    visited: Is a dictionary that keeps track of the nodes you've visited.\n",
        "    u: a starting node.\n",
        "    parent: The parent node for DFS so that you can cancel recursion if you complete the cycle.\n",
        "  Returns:\n",
        "    True: If all nodes have been visited at least once.\n",
        "    False: Otherwise.\n",
        "  \"\"\"\n",
        "\n",
        "  #algorithm that follows a path and marks nodes that it's visited and ensures that its visited every node on the graph \n",
        "  #TODO: Implement. Hint: Make sure to keep track of the parent node for a DFS search,\n",
        "  # as a cycle leads to an infinite recursion, so you have to make sure you break the cycle.\n",
        "  stack = [] #creates list stack\n",
        "  stack.append(u)\n",
        "  visited = set()\n",
        "  while stack:\n",
        "    curr = stack.pop()#pulling the last one added on the stack and deleting it    \n",
        "    visited.add(curr) \n",
        "    if len(visited) == m:\n",
        "      return True\n",
        "    all_neighbors = G[curr]  #neighbros of G[i]\n",
        "    for neighbor in all_neighbors:\n",
        "      if neighbor not in visited:\n",
        "        stack.append(neighbor)\n",
        "  \n",
        "  return False \n",
        "\n"
      ],
      "execution_count": 2,
      "outputs": []
    },
    {
      "cell_type": "markdown",
      "metadata": {
        "id": "vc44XK7_JEYO"
      },
      "source": [
        ">> **(b)** Test out your graph class with a cops and robbers graph of $n=5$ and $m=10$."
      ]
    },
    {
      "cell_type": "code",
      "metadata": {
        "id": "pKxMuq_7BkGP",
        "colab": {
          "base_uri": "https://localhost:8080/"
        },
        "outputId": "5619b69a-3a71-4831-dedc-337d8a7e96f5"
      },
      "source": [
        "#TODO: Your code goes here.\n",
        "g = Graph(5,10)\n",
        "bl = g.make_random_graph()\n",
        "print(g.G)\n",
        "print(bl)\n",
        "g.G[1]\n"
      ],
      "execution_count": 3,
      "outputs": [
        {
          "output_type": "stream",
          "name": "stdout",
          "text": [
            "here\n",
            "true\n",
            "defaultdict(<class 'list'>, {0: [1, 4, 7], 1: [0, 2], 2: [1, 3, 5], 3: [2, 4, 9], 4: [3, 0], 5: [2, 6, 8], 6: [5], 7: [0], 8: [5], 9: [3]})\n",
            "True\n"
          ]
        },
        {
          "output_type": "execute_result",
          "data": {
            "text/plain": [
              "[0, 2]"
            ]
          },
          "metadata": {},
          "execution_count": 3
        }
      ]
    },
    {
      "cell_type": "markdown",
      "metadata": {
        "id": "xTuchWzJJaxk"
      },
      "source": [
        "> **Part 2** Understanding the state space, i.e. the Game.\n",
        ">> **(a)** Given the graph class you've created in Part 1. Develop a Cops and Robbers game class. Use the skeleton below to implement the following functions first: *get_successors*, *terminal_test*, *result*. \n"
      ]
    },
    {
      "cell_type": "code",
      "metadata": {
        "id": "5qBoFrNDBT9y"
      },
      "source": [
        "class CopsAndRobbers:\n",
        "  def __init__(self, graph, start_state, rewards_table=None):\n",
        "    \"\"\" This is the cops and robbers game class.\n",
        "    Args:\n",
        "      start_state: The starting state of the cop position and robber position in\n",
        "        the graph. Should be a tuple of form (cop_pos, rob_pos).\n",
        "      G: The graph adjacency matrix\n",
        "      state: current state in the game.\n",
        "      reward_table: The (state, actions) reward dictionary that you will eventually implement.\n",
        "    \"\"\"\n",
        "    self.graph = graph\n",
        "    self.G = graph.G\n",
        "    self.state = start_state\n",
        "    self.rewards_table = rewards_table\n",
        "  \n",
        "  \n",
        "  def terminal_test(self, state):\n",
        "    #TODO: Implement.\n",
        "    if self.state[0] == self.state[1]: \n",
        "      return True\n",
        "    return False \n",
        "\n",
        "  def get_successors(self, state):\n",
        "    \"\"\" Return a list of successor states that can be reached from the current state.\n",
        "    Hint: Remember only the cop can choose their action.\n",
        "    \"\"\"\n",
        "    #TODO: Implement.\n",
        "    return (self.G[state[0]])\n",
        "    #self.G[state[1]]\n",
        "\n",
        "  def result_rob(self, state):\n",
        "    \"\"\" This function should return the state after the cop has made their move,\n",
        "    and the drunk robber has moved accordingly.\n",
        "    Args:\n",
        "      state: Current state of (cop, rob).\n",
        "      next_state: The state after the cop has moved (next_cop, rob). Calculated from get_successors.\n",
        "    \"\"\"\n",
        "    # TODO: Implement.\n",
        "    next_state_rob = random.choice(self.G[state[1]]) # and this is decided with the reward table\n",
        "    state_cop = self.state[0]\n",
        "    self.state = (state_cop,next_state_rob)\n",
        "    #return (next_state_cop, next_state_rob)\n",
        "\n",
        "  def result_cop(self, state, next_state):\n",
        "    next_state_cop = next_state# and this is decided with the reward table\n",
        "    state_rob = self.state[1]\n",
        "    self.state = (next_state_cop,state_rob)\n",
        "    #return (next_state_cop, next_state_rob)\n",
        "\n",
        "#The availabe actions of the cop and associated reward function is:\n",
        "#Move to a node not connected to their present node (and the cop stays in the current position): -5.\n",
        "#Move to an adjacent node (including staying at current node): -1.\n",
        "#Move to the node occupied by robber: +100.\n",
        "  def utility(self, state, action):\n",
        "    return self.rewards_table[(state, action)]"
      ],
      "execution_count": 7,
      "outputs": []
    },
    {
      "cell_type": "code",
      "metadata": {
        "colab": {
          "base_uri": "https://localhost:8080/"
        },
        "id": "40wpcZOOVsBU",
        "outputId": "9d8defc4-cebe-43bb-8b4b-778937b0c8a6"
      },
      "source": [
        "c = CopsAndRobbers(g,(0,4),None)\n",
        "print(c.get_successors((0,2)))"
      ],
      "execution_count": 5,
      "outputs": [
        {
          "output_type": "stream",
          "name": "stdout",
          "text": [
            "[1, 4, 7]\n"
          ]
        }
      ]
    },
    {
      "cell_type": "markdown",
      "metadata": {
        "id": "x-YjCqNsXOKG"
      },
      "source": [
        ">> **(b)** In reinforcement learning we are often interested in calculating a rewards table that has possible states as its rows and possible actions as its columns and filled in with the associated reward given the Q(state, action) pair. Calculate the rewards table for any given graph. *Hint: This should be an $m^2$ x $m$ matrix or a dictionary with $m^3$ keys such that the keys are (state, action) tuples.*  "
      ]
    },
    {
      "cell_type": "code",
      "metadata": {
        "id": "F61FjlM__wEg"
      },
      "source": [
        "def calculateRewardsTable(graph):\n",
        "  \"\"\" Make a rewards table dictionary of the from table[(state, action)] = reward.\n",
        "  \"\"\"\n",
        "  #TODO: implement\n",
        "  #states\n",
        "  table = defaultdict(list)\n",
        "\n",
        "  for cop in range(graph.m):\n",
        "    for rob in range(graph.m):\n",
        "      for action in range(graph.m):\n",
        "        if (action in graph.G[cop]) & (action == rob):\n",
        "          table[(cop,rob),action] = 100\n",
        "        elif (action in graph.G[cop]) & (action != rob):\n",
        "          table[(cop,rob),action] = -1\n",
        "        else: \n",
        "          table[(cop,rob),action] = -5\n",
        "  return table"
      ],
      "execution_count": 5,
      "outputs": []
    },
    {
      "cell_type": "code",
      "metadata": {
        "colab": {
          "base_uri": "https://localhost:8080/"
        },
        "id": "jCsRX1SU8JZ3",
        "outputId": "3261e621-8c69-4551-d3c8-86a18cab6da7"
      },
      "source": [
        "print(range(g.m))"
      ],
      "execution_count": 106,
      "outputs": [
        {
          "output_type": "stream",
          "name": "stdout",
          "text": [
            "range(0, 10)\n"
          ]
        }
      ]
    },
    {
      "cell_type": "code",
      "metadata": {
        "colab": {
          "base_uri": "https://localhost:8080/"
        },
        "id": "lhXhfdSkjY94",
        "outputId": "0f6dd788-47f7-407f-94fd-23707c5f396e"
      },
      "source": [
        "aa = calculateRewardsTable(g)\n",
        "print(aa)"
      ],
      "execution_count": 109,
      "outputs": [
        {
          "output_type": "stream",
          "name": "stdout",
          "text": [
            "defaultdict(<class 'list'>, {((0, 0), 0): -5, ((0, 0), 1): -1, ((0, 0), 2): -5, ((0, 0), 3): -5, ((0, 0), 4): -1, ((0, 0), 5): -5, ((0, 0), 6): -5, ((0, 0), 7): -5, ((0, 0), 8): -5, ((0, 0), 9): -5, ((0, 1), 0): -5, ((0, 1), 1): 100, ((0, 1), 2): -5, ((0, 1), 3): -5, ((0, 1), 4): -1, ((0, 1), 5): -5, ((0, 1), 6): -5, ((0, 1), 7): -5, ((0, 1), 8): -5, ((0, 1), 9): -5, ((0, 2), 0): -5, ((0, 2), 1): -1, ((0, 2), 2): -5, ((0, 2), 3): -5, ((0, 2), 4): -1, ((0, 2), 5): -5, ((0, 2), 6): -5, ((0, 2), 7): -5, ((0, 2), 8): -5, ((0, 2), 9): -5, ((0, 3), 0): -5, ((0, 3), 1): -1, ((0, 3), 2): -5, ((0, 3), 3): -5, ((0, 3), 4): -1, ((0, 3), 5): -5, ((0, 3), 6): -5, ((0, 3), 7): -5, ((0, 3), 8): -5, ((0, 3), 9): -5, ((0, 4), 0): -5, ((0, 4), 1): -1, ((0, 4), 2): -5, ((0, 4), 3): -5, ((0, 4), 4): 100, ((0, 4), 5): -5, ((0, 4), 6): -5, ((0, 4), 7): -5, ((0, 4), 8): -5, ((0, 4), 9): -5, ((0, 5), 0): -5, ((0, 5), 1): -1, ((0, 5), 2): -5, ((0, 5), 3): -5, ((0, 5), 4): -1, ((0, 5), 5): -5, ((0, 5), 6): -5, ((0, 5), 7): -5, ((0, 5), 8): -5, ((0, 5), 9): -5, ((0, 6), 0): -5, ((0, 6), 1): -1, ((0, 6), 2): -5, ((0, 6), 3): -5, ((0, 6), 4): -1, ((0, 6), 5): -5, ((0, 6), 6): -5, ((0, 6), 7): -5, ((0, 6), 8): -5, ((0, 6), 9): -5, ((0, 7), 0): -5, ((0, 7), 1): -1, ((0, 7), 2): -5, ((0, 7), 3): -5, ((0, 7), 4): -1, ((0, 7), 5): -5, ((0, 7), 6): -5, ((0, 7), 7): -5, ((0, 7), 8): -5, ((0, 7), 9): -5, ((0, 8), 0): -5, ((0, 8), 1): -1, ((0, 8), 2): -5, ((0, 8), 3): -5, ((0, 8), 4): -1, ((0, 8), 5): -5, ((0, 8), 6): -5, ((0, 8), 7): -5, ((0, 8), 8): -5, ((0, 8), 9): -5, ((0, 9), 0): -5, ((0, 9), 1): -1, ((0, 9), 2): -5, ((0, 9), 3): -5, ((0, 9), 4): -1, ((0, 9), 5): -5, ((0, 9), 6): -5, ((0, 9), 7): -5, ((0, 9), 8): -5, ((0, 9), 9): -5, ((1, 0), 0): 100, ((1, 0), 1): -5, ((1, 0), 2): -1, ((1, 0), 3): -5, ((1, 0), 4): -5, ((1, 0), 5): -5, ((1, 0), 6): -5, ((1, 0), 7): -5, ((1, 0), 8): -5, ((1, 0), 9): -5, ((1, 1), 0): -1, ((1, 1), 1): -5, ((1, 1), 2): -1, ((1, 1), 3): -5, ((1, 1), 4): -5, ((1, 1), 5): -5, ((1, 1), 6): -5, ((1, 1), 7): -5, ((1, 1), 8): -5, ((1, 1), 9): -5, ((1, 2), 0): -1, ((1, 2), 1): -5, ((1, 2), 2): 100, ((1, 2), 3): -5, ((1, 2), 4): -5, ((1, 2), 5): -5, ((1, 2), 6): -5, ((1, 2), 7): -5, ((1, 2), 8): -5, ((1, 2), 9): -5, ((1, 3), 0): -1, ((1, 3), 1): -5, ((1, 3), 2): -1, ((1, 3), 3): -5, ((1, 3), 4): -5, ((1, 3), 5): -5, ((1, 3), 6): -5, ((1, 3), 7): -5, ((1, 3), 8): -5, ((1, 3), 9): -5, ((1, 4), 0): -1, ((1, 4), 1): -5, ((1, 4), 2): -1, ((1, 4), 3): -5, ((1, 4), 4): -5, ((1, 4), 5): -5, ((1, 4), 6): -5, ((1, 4), 7): -5, ((1, 4), 8): -5, ((1, 4), 9): -5, ((1, 5), 0): -1, ((1, 5), 1): -5, ((1, 5), 2): -1, ((1, 5), 3): -5, ((1, 5), 4): -5, ((1, 5), 5): -5, ((1, 5), 6): -5, ((1, 5), 7): -5, ((1, 5), 8): -5, ((1, 5), 9): -5, ((1, 6), 0): -1, ((1, 6), 1): -5, ((1, 6), 2): -1, ((1, 6), 3): -5, ((1, 6), 4): -5, ((1, 6), 5): -5, ((1, 6), 6): -5, ((1, 6), 7): -5, ((1, 6), 8): -5, ((1, 6), 9): -5, ((1, 7), 0): -1, ((1, 7), 1): -5, ((1, 7), 2): -1, ((1, 7), 3): -5, ((1, 7), 4): -5, ((1, 7), 5): -5, ((1, 7), 6): -5, ((1, 7), 7): -5, ((1, 7), 8): -5, ((1, 7), 9): -5, ((1, 8), 0): -1, ((1, 8), 1): -5, ((1, 8), 2): -1, ((1, 8), 3): -5, ((1, 8), 4): -5, ((1, 8), 5): -5, ((1, 8), 6): -5, ((1, 8), 7): -5, ((1, 8), 8): -5, ((1, 8), 9): -5, ((1, 9), 0): -1, ((1, 9), 1): -5, ((1, 9), 2): -1, ((1, 9), 3): -5, ((1, 9), 4): -5, ((1, 9), 5): -5, ((1, 9), 6): -5, ((1, 9), 7): -5, ((1, 9), 8): -5, ((1, 9), 9): -5, ((2, 0), 0): -5, ((2, 0), 1): -1, ((2, 0), 2): -5, ((2, 0), 3): -1, ((2, 0), 4): -5, ((2, 0), 5): -5, ((2, 0), 6): -1, ((2, 0), 7): -5, ((2, 0), 8): -5, ((2, 0), 9): -5, ((2, 1), 0): -5, ((2, 1), 1): 100, ((2, 1), 2): -5, ((2, 1), 3): -1, ((2, 1), 4): -5, ((2, 1), 5): -5, ((2, 1), 6): -1, ((2, 1), 7): -5, ((2, 1), 8): -5, ((2, 1), 9): -5, ((2, 2), 0): -5, ((2, 2), 1): -1, ((2, 2), 2): -5, ((2, 2), 3): -1, ((2, 2), 4): -5, ((2, 2), 5): -5, ((2, 2), 6): -1, ((2, 2), 7): -5, ((2, 2), 8): -5, ((2, 2), 9): -5, ((2, 3), 0): -5, ((2, 3), 1): -1, ((2, 3), 2): -5, ((2, 3), 3): 100, ((2, 3), 4): -5, ((2, 3), 5): -5, ((2, 3), 6): -1, ((2, 3), 7): -5, ((2, 3), 8): -5, ((2, 3), 9): -5, ((2, 4), 0): -5, ((2, 4), 1): -1, ((2, 4), 2): -5, ((2, 4), 3): -1, ((2, 4), 4): -5, ((2, 4), 5): -5, ((2, 4), 6): -1, ((2, 4), 7): -5, ((2, 4), 8): -5, ((2, 4), 9): -5, ((2, 5), 0): -5, ((2, 5), 1): -1, ((2, 5), 2): -5, ((2, 5), 3): -1, ((2, 5), 4): -5, ((2, 5), 5): -5, ((2, 5), 6): -1, ((2, 5), 7): -5, ((2, 5), 8): -5, ((2, 5), 9): -5, ((2, 6), 0): -5, ((2, 6), 1): -1, ((2, 6), 2): -5, ((2, 6), 3): -1, ((2, 6), 4): -5, ((2, 6), 5): -5, ((2, 6), 6): 100, ((2, 6), 7): -5, ((2, 6), 8): -5, ((2, 6), 9): -5, ((2, 7), 0): -5, ((2, 7), 1): -1, ((2, 7), 2): -5, ((2, 7), 3): -1, ((2, 7), 4): -5, ((2, 7), 5): -5, ((2, 7), 6): -1, ((2, 7), 7): -5, ((2, 7), 8): -5, ((2, 7), 9): -5, ((2, 8), 0): -5, ((2, 8), 1): -1, ((2, 8), 2): -5, ((2, 8), 3): -1, ((2, 8), 4): -5, ((2, 8), 5): -5, ((2, 8), 6): -1, ((2, 8), 7): -5, ((2, 8), 8): -5, ((2, 8), 9): -5, ((2, 9), 0): -5, ((2, 9), 1): -1, ((2, 9), 2): -5, ((2, 9), 3): -1, ((2, 9), 4): -5, ((2, 9), 5): -5, ((2, 9), 6): -1, ((2, 9), 7): -5, ((2, 9), 8): -5, ((2, 9), 9): -5, ((3, 0), 0): -5, ((3, 0), 1): -5, ((3, 0), 2): -1, ((3, 0), 3): -5, ((3, 0), 4): -1, ((3, 0), 5): -5, ((3, 0), 6): -5, ((3, 0), 7): -5, ((3, 0), 8): -5, ((3, 0), 9): -5, ((3, 1), 0): -5, ((3, 1), 1): -5, ((3, 1), 2): -1, ((3, 1), 3): -5, ((3, 1), 4): -1, ((3, 1), 5): -5, ((3, 1), 6): -5, ((3, 1), 7): -5, ((3, 1), 8): -5, ((3, 1), 9): -5, ((3, 2), 0): -5, ((3, 2), 1): -5, ((3, 2), 2): 100, ((3, 2), 3): -5, ((3, 2), 4): -1, ((3, 2), 5): -5, ((3, 2), 6): -5, ((3, 2), 7): -5, ((3, 2), 8): -5, ((3, 2), 9): -5, ((3, 3), 0): -5, ((3, 3), 1): -5, ((3, 3), 2): -1, ((3, 3), 3): -5, ((3, 3), 4): -1, ((3, 3), 5): -5, ((3, 3), 6): -5, ((3, 3), 7): -5, ((3, 3), 8): -5, ((3, 3), 9): -5, ((3, 4), 0): -5, ((3, 4), 1): -5, ((3, 4), 2): -1, ((3, 4), 3): -5, ((3, 4), 4): 100, ((3, 4), 5): -5, ((3, 4), 6): -5, ((3, 4), 7): -5, ((3, 4), 8): -5, ((3, 4), 9): -5, ((3, 5), 0): -5, ((3, 5), 1): -5, ((3, 5), 2): -1, ((3, 5), 3): -5, ((3, 5), 4): -1, ((3, 5), 5): -5, ((3, 5), 6): -5, ((3, 5), 7): -5, ((3, 5), 8): -5, ((3, 5), 9): -5, ((3, 6), 0): -5, ((3, 6), 1): -5, ((3, 6), 2): -1, ((3, 6), 3): -5, ((3, 6), 4): -1, ((3, 6), 5): -5, ((3, 6), 6): -5, ((3, 6), 7): -5, ((3, 6), 8): -5, ((3, 6), 9): -5, ((3, 7), 0): -5, ((3, 7), 1): -5, ((3, 7), 2): -1, ((3, 7), 3): -5, ((3, 7), 4): -1, ((3, 7), 5): -5, ((3, 7), 6): -5, ((3, 7), 7): -5, ((3, 7), 8): -5, ((3, 7), 9): -5, ((3, 8), 0): -5, ((3, 8), 1): -5, ((3, 8), 2): -1, ((3, 8), 3): -5, ((3, 8), 4): -1, ((3, 8), 5): -5, ((3, 8), 6): -5, ((3, 8), 7): -5, ((3, 8), 8): -5, ((3, 8), 9): -5, ((3, 9), 0): -5, ((3, 9), 1): -5, ((3, 9), 2): -1, ((3, 9), 3): -5, ((3, 9), 4): -1, ((3, 9), 5): -5, ((3, 9), 6): -5, ((3, 9), 7): -5, ((3, 9), 8): -5, ((3, 9), 9): -5, ((4, 0), 0): 100, ((4, 0), 1): -5, ((4, 0), 2): -5, ((4, 0), 3): -1, ((4, 0), 4): -5, ((4, 0), 5): -1, ((4, 0), 6): -5, ((4, 0), 7): -5, ((4, 0), 8): -5, ((4, 0), 9): -5, ((4, 1), 0): -1, ((4, 1), 1): -5, ((4, 1), 2): -5, ((4, 1), 3): -1, ((4, 1), 4): -5, ((4, 1), 5): -1, ((4, 1), 6): -5, ((4, 1), 7): -5, ((4, 1), 8): -5, ((4, 1), 9): -5, ((4, 2), 0): -1, ((4, 2), 1): -5, ((4, 2), 2): -5, ((4, 2), 3): -1, ((4, 2), 4): -5, ((4, 2), 5): -1, ((4, 2), 6): -5, ((4, 2), 7): -5, ((4, 2), 8): -5, ((4, 2), 9): -5, ((4, 3), 0): -1, ((4, 3), 1): -5, ((4, 3), 2): -5, ((4, 3), 3): 100, ((4, 3), 4): -5, ((4, 3), 5): -1, ((4, 3), 6): -5, ((4, 3), 7): -5, ((4, 3), 8): -5, ((4, 3), 9): -5, ((4, 4), 0): -1, ((4, 4), 1): -5, ((4, 4), 2): -5, ((4, 4), 3): -1, ((4, 4), 4): -5, ((4, 4), 5): -1, ((4, 4), 6): -5, ((4, 4), 7): -5, ((4, 4), 8): -5, ((4, 4), 9): -5, ((4, 5), 0): -1, ((4, 5), 1): -5, ((4, 5), 2): -5, ((4, 5), 3): -1, ((4, 5), 4): -5, ((4, 5), 5): 100, ((4, 5), 6): -5, ((4, 5), 7): -5, ((4, 5), 8): -5, ((4, 5), 9): -5, ((4, 6), 0): -1, ((4, 6), 1): -5, ((4, 6), 2): -5, ((4, 6), 3): -1, ((4, 6), 4): -5, ((4, 6), 5): -1, ((4, 6), 6): -5, ((4, 6), 7): -5, ((4, 6), 8): -5, ((4, 6), 9): -5, ((4, 7), 0): -1, ((4, 7), 1): -5, ((4, 7), 2): -5, ((4, 7), 3): -1, ((4, 7), 4): -5, ((4, 7), 5): -1, ((4, 7), 6): -5, ((4, 7), 7): -5, ((4, 7), 8): -5, ((4, 7), 9): -5, ((4, 8), 0): -1, ((4, 8), 1): -5, ((4, 8), 2): -5, ((4, 8), 3): -1, ((4, 8), 4): -5, ((4, 8), 5): -1, ((4, 8), 6): -5, ((4, 8), 7): -5, ((4, 8), 8): -5, ((4, 8), 9): -5, ((4, 9), 0): -1, ((4, 9), 1): -5, ((4, 9), 2): -5, ((4, 9), 3): -1, ((4, 9), 4): -5, ((4, 9), 5): -1, ((4, 9), 6): -5, ((4, 9), 7): -5, ((4, 9), 8): -5, ((4, 9), 9): -5, ((5, 0), 0): -5, ((5, 0), 1): -5, ((5, 0), 2): -5, ((5, 0), 3): -5, ((5, 0), 4): -1, ((5, 0), 5): -5, ((5, 0), 6): -5, ((5, 0), 7): -5, ((5, 0), 8): -5, ((5, 0), 9): -5, ((5, 1), 0): -5, ((5, 1), 1): -5, ((5, 1), 2): -5, ((5, 1), 3): -5, ((5, 1), 4): -1, ((5, 1), 5): -5, ((5, 1), 6): -5, ((5, 1), 7): -5, ((5, 1), 8): -5, ((5, 1), 9): -5, ((5, 2), 0): -5, ((5, 2), 1): -5, ((5, 2), 2): -5, ((5, 2), 3): -5, ((5, 2), 4): -1, ((5, 2), 5): -5, ((5, 2), 6): -5, ((5, 2), 7): -5, ((5, 2), 8): -5, ((5, 2), 9): -5, ((5, 3), 0): -5, ((5, 3), 1): -5, ((5, 3), 2): -5, ((5, 3), 3): -5, ((5, 3), 4): -1, ((5, 3), 5): -5, ((5, 3), 6): -5, ((5, 3), 7): -5, ((5, 3), 8): -5, ((5, 3), 9): -5, ((5, 4), 0): -5, ((5, 4), 1): -5, ((5, 4), 2): -5, ((5, 4), 3): -5, ((5, 4), 4): 100, ((5, 4), 5): -5, ((5, 4), 6): -5, ((5, 4), 7): -5, ((5, 4), 8): -5, ((5, 4), 9): -5, ((5, 5), 0): -5, ((5, 5), 1): -5, ((5, 5), 2): -5, ((5, 5), 3): -5, ((5, 5), 4): -1, ((5, 5), 5): -5, ((5, 5), 6): -5, ((5, 5), 7): -5, ((5, 5), 8): -5, ((5, 5), 9): -5, ((5, 6), 0): -5, ((5, 6), 1): -5, ((5, 6), 2): -5, ((5, 6), 3): -5, ((5, 6), 4): -1, ((5, 6), 5): -5, ((5, 6), 6): -5, ((5, 6), 7): -5, ((5, 6), 8): -5, ((5, 6), 9): -5, ((5, 7), 0): -5, ((5, 7), 1): -5, ((5, 7), 2): -5, ((5, 7), 3): -5, ((5, 7), 4): -1, ((5, 7), 5): -5, ((5, 7), 6): -5, ((5, 7), 7): -5, ((5, 7), 8): -5, ((5, 7), 9): -5, ((5, 8), 0): -5, ((5, 8), 1): -5, ((5, 8), 2): -5, ((5, 8), 3): -5, ((5, 8), 4): -1, ((5, 8), 5): -5, ((5, 8), 6): -5, ((5, 8), 7): -5, ((5, 8), 8): -5, ((5, 8), 9): -5, ((5, 9), 0): -5, ((5, 9), 1): -5, ((5, 9), 2): -5, ((5, 9), 3): -5, ((5, 9), 4): -1, ((5, 9), 5): -5, ((5, 9), 6): -5, ((5, 9), 7): -5, ((5, 9), 8): -5, ((5, 9), 9): -5, ((6, 0), 0): -5, ((6, 0), 1): -5, ((6, 0), 2): -1, ((6, 0), 3): -5, ((6, 0), 4): -5, ((6, 0), 5): -5, ((6, 0), 6): -5, ((6, 0), 7): -1, ((6, 0), 8): -1, ((6, 0), 9): -1, ((6, 1), 0): -5, ((6, 1), 1): -5, ((6, 1), 2): -1, ((6, 1), 3): -5, ((6, 1), 4): -5, ((6, 1), 5): -5, ((6, 1), 6): -5, ((6, 1), 7): -1, ((6, 1), 8): -1, ((6, 1), 9): -1, ((6, 2), 0): -5, ((6, 2), 1): -5, ((6, 2), 2): 100, ((6, 2), 3): -5, ((6, 2), 4): -5, ((6, 2), 5): -5, ((6, 2), 6): -5, ((6, 2), 7): -1, ((6, 2), 8): -1, ((6, 2), 9): -1, ((6, 3), 0): -5, ((6, 3), 1): -5, ((6, 3), 2): -1, ((6, 3), 3): -5, ((6, 3), 4): -5, ((6, 3), 5): -5, ((6, 3), 6): -5, ((6, 3), 7): -1, ((6, 3), 8): -1, ((6, 3), 9): -1, ((6, 4), 0): -5, ((6, 4), 1): -5, ((6, 4), 2): -1, ((6, 4), 3): -5, ((6, 4), 4): -5, ((6, 4), 5): -5, ((6, 4), 6): -5, ((6, 4), 7): -1, ((6, 4), 8): -1, ((6, 4), 9): -1, ((6, 5), 0): -5, ((6, 5), 1): -5, ((6, 5), 2): -1, ((6, 5), 3): -5, ((6, 5), 4): -5, ((6, 5), 5): -5, ((6, 5), 6): -5, ((6, 5), 7): -1, ((6, 5), 8): -1, ((6, 5), 9): -1, ((6, 6), 0): -5, ((6, 6), 1): -5, ((6, 6), 2): -1, ((6, 6), 3): -5, ((6, 6), 4): -5, ((6, 6), 5): -5, ((6, 6), 6): -5, ((6, 6), 7): -1, ((6, 6), 8): -1, ((6, 6), 9): -1, ((6, 7), 0): -5, ((6, 7), 1): -5, ((6, 7), 2): -1, ((6, 7), 3): -5, ((6, 7), 4): -5, ((6, 7), 5): -5, ((6, 7), 6): -5, ((6, 7), 7): 100, ((6, 7), 8): -1, ((6, 7), 9): -1, ((6, 8), 0): -5, ((6, 8), 1): -5, ((6, 8), 2): -1, ((6, 8), 3): -5, ((6, 8), 4): -5, ((6, 8), 5): -5, ((6, 8), 6): -5, ((6, 8), 7): -1, ((6, 8), 8): 100, ((6, 8), 9): -1, ((6, 9), 0): -5, ((6, 9), 1): -5, ((6, 9), 2): -1, ((6, 9), 3): -5, ((6, 9), 4): -5, ((6, 9), 5): -5, ((6, 9), 6): -5, ((6, 9), 7): -1, ((6, 9), 8): -1, ((6, 9), 9): 100, ((7, 0), 0): -5, ((7, 0), 1): -5, ((7, 0), 2): -5, ((7, 0), 3): -5, ((7, 0), 4): -5, ((7, 0), 5): -5, ((7, 0), 6): -1, ((7, 0), 7): -5, ((7, 0), 8): -5, ((7, 0), 9): -5, ((7, 1), 0): -5, ((7, 1), 1): -5, ((7, 1), 2): -5, ((7, 1), 3): -5, ((7, 1), 4): -5, ((7, 1), 5): -5, ((7, 1), 6): -1, ((7, 1), 7): -5, ((7, 1), 8): -5, ((7, 1), 9): -5, ((7, 2), 0): -5, ((7, 2), 1): -5, ((7, 2), 2): -5, ((7, 2), 3): -5, ((7, 2), 4): -5, ((7, 2), 5): -5, ((7, 2), 6): -1, ((7, 2), 7): -5, ((7, 2), 8): -5, ((7, 2), 9): -5, ((7, 3), 0): -5, ((7, 3), 1): -5, ((7, 3), 2): -5, ((7, 3), 3): -5, ((7, 3), 4): -5, ((7, 3), 5): -5, ((7, 3), 6): -1, ((7, 3), 7): -5, ((7, 3), 8): -5, ((7, 3), 9): -5, ((7, 4), 0): -5, ((7, 4), 1): -5, ((7, 4), 2): -5, ((7, 4), 3): -5, ((7, 4), 4): -5, ((7, 4), 5): -5, ((7, 4), 6): -1, ((7, 4), 7): -5, ((7, 4), 8): -5, ((7, 4), 9): -5, ((7, 5), 0): -5, ((7, 5), 1): -5, ((7, 5), 2): -5, ((7, 5), 3): -5, ((7, 5), 4): -5, ((7, 5), 5): -5, ((7, 5), 6): -1, ((7, 5), 7): -5, ((7, 5), 8): -5, ((7, 5), 9): -5, ((7, 6), 0): -5, ((7, 6), 1): -5, ((7, 6), 2): -5, ((7, 6), 3): -5, ((7, 6), 4): -5, ((7, 6), 5): -5, ((7, 6), 6): 100, ((7, 6), 7): -5, ((7, 6), 8): -5, ((7, 6), 9): -5, ((7, 7), 0): -5, ((7, 7), 1): -5, ((7, 7), 2): -5, ((7, 7), 3): -5, ((7, 7), 4): -5, ((7, 7), 5): -5, ((7, 7), 6): -1, ((7, 7), 7): -5, ((7, 7), 8): -5, ((7, 7), 9): -5, ((7, 8), 0): -5, ((7, 8), 1): -5, ((7, 8), 2): -5, ((7, 8), 3): -5, ((7, 8), 4): -5, ((7, 8), 5): -5, ((7, 8), 6): -1, ((7, 8), 7): -5, ((7, 8), 8): -5, ((7, 8), 9): -5, ((7, 9), 0): -5, ((7, 9), 1): -5, ((7, 9), 2): -5, ((7, 9), 3): -5, ((7, 9), 4): -5, ((7, 9), 5): -5, ((7, 9), 6): -1, ((7, 9), 7): -5, ((7, 9), 8): -5, ((7, 9), 9): -5, ((8, 0), 0): -5, ((8, 0), 1): -5, ((8, 0), 2): -5, ((8, 0), 3): -5, ((8, 0), 4): -5, ((8, 0), 5): -5, ((8, 0), 6): -1, ((8, 0), 7): -5, ((8, 0), 8): -5, ((8, 0), 9): -5, ((8, 1), 0): -5, ((8, 1), 1): -5, ((8, 1), 2): -5, ((8, 1), 3): -5, ((8, 1), 4): -5, ((8, 1), 5): -5, ((8, 1), 6): -1, ((8, 1), 7): -5, ((8, 1), 8): -5, ((8, 1), 9): -5, ((8, 2), 0): -5, ((8, 2), 1): -5, ((8, 2), 2): -5, ((8, 2), 3): -5, ((8, 2), 4): -5, ((8, 2), 5): -5, ((8, 2), 6): -1, ((8, 2), 7): -5, ((8, 2), 8): -5, ((8, 2), 9): -5, ((8, 3), 0): -5, ((8, 3), 1): -5, ((8, 3), 2): -5, ((8, 3), 3): -5, ((8, 3), 4): -5, ((8, 3), 5): -5, ((8, 3), 6): -1, ((8, 3), 7): -5, ((8, 3), 8): -5, ((8, 3), 9): -5, ((8, 4), 0): -5, ((8, 4), 1): -5, ((8, 4), 2): -5, ((8, 4), 3): -5, ((8, 4), 4): -5, ((8, 4), 5): -5, ((8, 4), 6): -1, ((8, 4), 7): -5, ((8, 4), 8): -5, ((8, 4), 9): -5, ((8, 5), 0): -5, ((8, 5), 1): -5, ((8, 5), 2): -5, ((8, 5), 3): -5, ((8, 5), 4): -5, ((8, 5), 5): -5, ((8, 5), 6): -1, ((8, 5), 7): -5, ((8, 5), 8): -5, ((8, 5), 9): -5, ((8, 6), 0): -5, ((8, 6), 1): -5, ((8, 6), 2): -5, ((8, 6), 3): -5, ((8, 6), 4): -5, ((8, 6), 5): -5, ((8, 6), 6): 100, ((8, 6), 7): -5, ((8, 6), 8): -5, ((8, 6), 9): -5, ((8, 7), 0): -5, ((8, 7), 1): -5, ((8, 7), 2): -5, ((8, 7), 3): -5, ((8, 7), 4): -5, ((8, 7), 5): -5, ((8, 7), 6): -1, ((8, 7), 7): -5, ((8, 7), 8): -5, ((8, 7), 9): -5, ((8, 8), 0): -5, ((8, 8), 1): -5, ((8, 8), 2): -5, ((8, 8), 3): -5, ((8, 8), 4): -5, ((8, 8), 5): -5, ((8, 8), 6): -1, ((8, 8), 7): -5, ((8, 8), 8): -5, ((8, 8), 9): -5, ((8, 9), 0): -5, ((8, 9), 1): -5, ((8, 9), 2): -5, ((8, 9), 3): -5, ((8, 9), 4): -5, ((8, 9), 5): -5, ((8, 9), 6): -1, ((8, 9), 7): -5, ((8, 9), 8): -5, ((8, 9), 9): -5, ((9, 0), 0): -5, ((9, 0), 1): -5, ((9, 0), 2): -5, ((9, 0), 3): -5, ((9, 0), 4): -5, ((9, 0), 5): -5, ((9, 0), 6): -1, ((9, 0), 7): -5, ((9, 0), 8): -5, ((9, 0), 9): -5, ((9, 1), 0): -5, ((9, 1), 1): -5, ((9, 1), 2): -5, ((9, 1), 3): -5, ((9, 1), 4): -5, ((9, 1), 5): -5, ((9, 1), 6): -1, ((9, 1), 7): -5, ((9, 1), 8): -5, ((9, 1), 9): -5, ((9, 2), 0): -5, ((9, 2), 1): -5, ((9, 2), 2): -5, ((9, 2), 3): -5, ((9, 2), 4): -5, ((9, 2), 5): -5, ((9, 2), 6): -1, ((9, 2), 7): -5, ((9, 2), 8): -5, ((9, 2), 9): -5, ((9, 3), 0): -5, ((9, 3), 1): -5, ((9, 3), 2): -5, ((9, 3), 3): -5, ((9, 3), 4): -5, ((9, 3), 5): -5, ((9, 3), 6): -1, ((9, 3), 7): -5, ((9, 3), 8): -5, ((9, 3), 9): -5, ((9, 4), 0): -5, ((9, 4), 1): -5, ((9, 4), 2): -5, ((9, 4), 3): -5, ((9, 4), 4): -5, ((9, 4), 5): -5, ((9, 4), 6): -1, ((9, 4), 7): -5, ((9, 4), 8): -5, ((9, 4), 9): -5, ((9, 5), 0): -5, ((9, 5), 1): -5, ((9, 5), 2): -5, ((9, 5), 3): -5, ((9, 5), 4): -5, ((9, 5), 5): -5, ((9, 5), 6): -1, ((9, 5), 7): -5, ((9, 5), 8): -5, ((9, 5), 9): -5, ((9, 6), 0): -5, ((9, 6), 1): -5, ((9, 6), 2): -5, ((9, 6), 3): -5, ((9, 6), 4): -5, ((9, 6), 5): -5, ((9, 6), 6): 100, ((9, 6), 7): -5, ((9, 6), 8): -5, ((9, 6), 9): -5, ((9, 7), 0): -5, ((9, 7), 1): -5, ((9, 7), 2): -5, ((9, 7), 3): -5, ((9, 7), 4): -5, ((9, 7), 5): -5, ((9, 7), 6): -1, ((9, 7), 7): -5, ((9, 7), 8): -5, ((9, 7), 9): -5, ((9, 8), 0): -5, ((9, 8), 1): -5, ((9, 8), 2): -5, ((9, 8), 3): -5, ((9, 8), 4): -5, ((9, 8), 5): -5, ((9, 8), 6): -1, ((9, 8), 7): -5, ((9, 8), 8): -5, ((9, 8), 9): -5, ((9, 9), 0): -5, ((9, 9), 1): -5, ((9, 9), 2): -5, ((9, 9), 3): -5, ((9, 9), 4): -5, ((9, 9), 5): -5, ((9, 9), 6): -1, ((9, 9), 7): -5, ((9, 9), 8): -5, ((9, 9), 9): -5})\n"
          ]
        }
      ]
    },
    {
      "cell_type": "markdown",
      "metadata": {
        "id": "EU0Hq2C8bocS"
      },
      "source": [
        ">> **(c)** Now that we have our reward table, try to solve the problem in a brute-force manner (without reinforcement learning). I.e. try to reach the terminal state, or find get a reward of 100. "
      ]
    },
    {
      "cell_type": "code",
      "metadata": {
        "id": "GysY6hjZ_Iu5",
        "colab": {
          "base_uri": "https://localhost:8080/"
        },
        "outputId": "76bc95c4-51c5-403c-9b81-e25c20f1345f"
      },
      "source": [
        "epochs = 0\n",
        "rewards = []\n",
        "penalties = 0\n",
        "#TODO: Instantiate your graph\n",
        "g = Graph(5,10)\n",
        "g.make_random_graph()\n",
        "\n",
        "#TODO: Build your rewards table\n",
        "Rewards = calculateRewardsTable(g)\n",
        "\n",
        "#TODO: Instantiate your game.\n",
        "#arbitrary start state\n",
        "start_state = (2,7)\n",
        "game = CopsAndRobbers(g,start_state,Rewards)\n",
        "\n",
        "# Simulation loop\n",
        "playing = True\n",
        "penalty = 0\n",
        "while playing:\n",
        "  #TODO: Get the next state, check for terminal state, and get reward\n",
        "  next_state_cop = random.randint(0, g.m - 1)\n",
        "  if next_state_cop in game.G[game.state[0]]: #is our next_state for the cop valid from our current one\n",
        "    penalty = penalty + game.utility(game.state,next_state_cop) #add penalty from the rewards table\n",
        "    game.result_cop(game.state,next_state_cop)\n",
        "    playing = not game.terminal_test(game.state)\n",
        "    if playing == False:\n",
        "      continue\n",
        "      print(\"playing\")\n",
        "    game.result_rob(game.state)\n",
        "    playing = not game.terminal_test(game.state) #this checks if robber moved \n",
        "    if playing == False:\n",
        "      penalty == penalty + 100 # adds points because the robber landed on the cop \n",
        "      print(\"playing\")\n",
        "      continue\n",
        "    \n",
        "  else:\n",
        "    penalty = penalty + game.utility(game.state,next_state_cop)\n",
        "    game.result_rob(game.state)\n",
        "    playing = not game.terminal_test(game.state)\n",
        "    if playing == False:\n",
        "      penalty = penalty+100\n",
        "\n",
        "  # Make sure to break if you reach the terminal state."
      ],
      "execution_count": 8,
      "outputs": [
        {
          "output_type": "stream",
          "name": "stdout",
          "text": [
            "here\n",
            "true\n"
          ]
        }
      ]
    },
    {
      "cell_type": "code",
      "metadata": {
        "colab": {
          "base_uri": "https://localhost:8080/"
        },
        "id": "XhU4RvNR9O0R",
        "outputId": "12eab4c3-bd7e-4bf9-a6c5-64a1151dc0e8"
      },
      "source": [
        "print(game.state)\n",
        "print(penalty)"
      ],
      "execution_count": 9,
      "outputs": [
        {
          "output_type": "stream",
          "name": "stdout",
          "text": [
            "(0, 0)\n",
            "78\n"
          ]
        }
      ]
    },
    {
      "cell_type": "markdown",
      "metadata": {
        "id": "ec8eFd77jdiV"
      },
      "source": [
        "> **Part 3** Q-learning. \n",
        ">\n",
        "> Up to this point we have build a graph class, built a game class, ran a brute-force simulation of an agent traversing the space randomly, and now we will dive into Q-learning in the hopes of maximizing the rewards and efficiency of capturing the drunk robber. \n",
        ">\n",
        ">> **(a)** Using the skeleton from the brute force method, implement a training loop to learn a Q-table for a given graph and game. "
      ]
    },
    {
      "cell_type": "code",
      "metadata": {
        "id": "uhUNoESeLOgN"
      },
      "source": [
        "#new rewards table\n",
        "n = 5\n",
        "m = 10\n",
        "\n",
        "q_graph = Graph(n, m)\n",
        "q_graph.make_random_graph()\n",
        "rewards_table = calculateRewardsTable(q_graph)\n",
        "#TODO: Instantiate your game.\n",
        "q_start_state = (0,4) #arbitrary start state\n",
        "q_game = CopsAndRobbers(q_graph, q_start_state, rewards_table)\n",
        "\n",
        "#define the shape of the environment (i.e., its states)\n",
        "environment_rows = m\n",
        "environment_columns = m\n",
        "\n",
        "#Create a 3D numpy array to hold the current Q-values for each state and action pair: Q(s, a) \n",
        "#The array contains 11 rows and 11 columns (to match the shape of the environment), as well as a third \"action\" dimension.\n",
        "#The \"action\" dimension consists of 4 layers that will allow us to keep track of the Q-values for each possible action in\n",
        "#each state (see next cell for a description of possible actions). \n",
        "#The value of each (state, action) pair is initialized to 0.\n",
        "q_values = np.zeros((environment_rows, environment_columns, m))\n",
        "#Create a 2D numpy array to hold the rewards for each state. \n",
        "#The array contains 11 rows and 11 columns (to match the shape of the environment), and each value is initialized to -1.\n",
        "rewards = np.full((m*m, m), -5.)\n",
        "\n",
        "for cop in range(m):\n",
        "  for rob in range(m):\n",
        "    for action in range(m):\n",
        "      if (action in q_graph.G[cop]) & (action == rob):\n",
        "        rewards[cop*m+rob,action] = 100\n",
        "      elif (action in q_graph.G[cop]) & (action != rob):\n",
        "        rewards[cop*m+rob,action] = -1\n",
        "      #otherwise -5\n",
        "  \n",
        "#print rewards matrix\n",
        "for row in rewards:\n",
        "  print(row)"
      ],
      "execution_count": null,
      "outputs": []
    },
    {
      "cell_type": "code",
      "metadata": {
        "id": "0Afl7KrfOLk5"
      },
      "source": [
        "#define a function that determines if the specified location is a terminal state\n",
        "def is_terminal_state(current_row_index, current_column_index):\n",
        "  #if the reward for this location is -1, then it is not a terminal state (i.e., it is a 'white square')\n",
        "  if rewards[current_row_index, current_column_index] == 100.:\n",
        "    return True\n",
        "  else:\n",
        "    return False"
      ],
      "execution_count": 38,
      "outputs": []
    },
    {
      "cell_type": "code",
      "metadata": {
        "id": "_YJfejwOOXfD"
      },
      "source": [
        "#define a function that will choose a random, non-terminal starting location\n",
        "def get_starting_location():\n",
        "  #get a random row and column index\n",
        "  current_row_index = np.random.randint(environment_rows)\n",
        "  current_column_index = np.random.randint(environment_columns)\n",
        "  #continue choosing random row and column indexes until a non-terminal state is identified\n",
        "  #(i.e., until the chosen state is a 'white square').\n",
        "  while is_terminal_state(current_row_index, current_column_index):\n",
        "    current_row_index = np.random.randint(environment_rows)\n",
        "    current_column_index = np.random.randint(environment_columns)\n",
        "  return current_row_index, current_column_index"
      ],
      "execution_count": 39,
      "outputs": []
    },
    {
      "cell_type": "code",
      "metadata": {
        "id": "DLOUeHnUOVuG"
      },
      "source": [
        "#define an epsilon greedy algorithm that will choose which action to take next (i.e., where to move next)\n",
        "def get_next_action(current_row_index, current_column_index, epsilon):\n",
        "  #if a randomly chosen value between 0 and 1 is less than epsilon, \n",
        "  #then choose the most promising value from the Q-table for this state.\n",
        "  if np.random.random() < epsilon:\n",
        "    return np.argmax(q_values[current_row_index, current_column_index])\n",
        "  else: #choose a random action\n",
        "    return np.random.randint(10)"
      ],
      "execution_count": 40,
      "outputs": []
    },
    {
      "cell_type": "code",
      "metadata": {
        "id": "_3kn63HNMkei"
      },
      "source": [
        "#define a function that will get the next location based on the chosen action\n",
        "def get_next_location(current_row_index, current_column_index, action_index):\n",
        "  new_row_index = current_row_index\n",
        "  new_column_index = current_column_index \n",
        "\n",
        "  if action_index in q_graph.G[current_row_index]:\n",
        "    new_row_index = action_index\n",
        "  if new_row_index != new_column_index: # only move if not terminal state\n",
        "    new_column_index = random.choice(q_graph.G[current_column_index]) \n",
        "\n",
        "  return new_row_index, new_column_index"
      ],
      "execution_count": 41,
      "outputs": []
    },
    {
      "cell_type": "code",
      "metadata": {
        "id": "DsCb-lKnMvB2"
      },
      "source": [
        "#Define a function that will get the shortest path between any location within the warehouse that \n",
        "#the robot is allowed to travel and the item packaging location.\n",
        "def get_shortest_path(start_row_index, start_column_index):\n",
        "  #return immediately if this is an invalid starting location\n",
        "  if is_terminal_state(start_row_index, start_column_index):\n",
        "    return []\n",
        "  else: #if this is a 'legal' starting location\n",
        "    current_row_index, current_column_index = start_row_index, start_column_index\n",
        "    shortest_path = []\n",
        "    shortest_path.append([current_row_index, current_column_index])\n",
        "    #continue moving along the path until we reach the goal (i.e., the item packaging location)\n",
        "    while not is_terminal_state(current_row_index, current_column_index):\n",
        "      #get the best action to take\n",
        "      action_index = get_next_action(current_row_index, current_column_index, 1.)\n",
        "      #move to the next location on the path, and add the new location to the list\n",
        "      current_row_index, current_column_index = get_next_location(current_row_index, current_column_index, action_index)\n",
        "      shortest_path.append([current_row_index, current_column_index])\n",
        "    return shortest_path"
      ],
      "execution_count": 42,
      "outputs": []
    },
    {
      "cell_type": "code",
      "metadata": {
        "colab": {
          "base_uri": "https://localhost:8080/"
        },
        "id": "uK6LTfGNCzbO",
        "outputId": "36e8bc22-eb74-4a79-9690-4980e9170416"
      },
      "source": [
        "#define training parameters\n",
        "import time\n",
        "\n",
        "epsilon = 0.9 #the percentage of time when we should take the best action (instead of a random action)\n",
        "discount_factor = 0.9 #discount factor for future rewards\n",
        "learning_rate = 0.9 #the rate at which the AI agent should learn\n",
        "\n",
        "#run through 100 training episodes\n",
        "reward_tot = 0\n",
        "reward_tracker =0\n",
        "steps = 0\n",
        "steps_tot = 0\n",
        "time_ave = 0\n",
        "t1 = 0\n",
        "for episode in range(100):\n",
        "  #get the starting location for this episode\n",
        "  row_index, column_index = get_starting_location()\n",
        "  reward_tot = reward_tracker + reward_tot\n",
        "  steps_tot = steps_tot + steps\n",
        "  reward_tracker = 0 \n",
        "  steps = 0\n",
        "  time_ave = t1 + time_ave\n",
        "\n",
        "\n",
        "  #continue taking actions (i.e., moving) until we reach a terminal state\n",
        "  #(i.e., until we reach the item packaging area or crash into an item storage location)\n",
        "  t0= time.process_time()\n",
        "  while not is_terminal_state(row_index, column_index):\n",
        "    #choose which action to take (i.e., where to move next)\n",
        "    action_index = get_next_action(row_index, column_index, epsilon)\n",
        "\n",
        "    #perform the chosen action, and transition to the next state (i.e., move to the next location)\n",
        "    old_row_index, old_column_index = row_index, column_index #store the old row and column indexes\n",
        "    row_index, column_index = get_next_location(row_index, column_index, action_index)\n",
        "    \n",
        "    #receive the reward for moving to the new state, and calculate the temporal difference\n",
        "    reward = rewards[row_index, column_index]\n",
        "    reward_tracker = reward_tracker + reward\n",
        "    old_q_value = q_values[old_row_index, old_column_index, action_index]\n",
        "    temporal_difference = reward + (discount_factor * np.max(q_values[row_index, column_index])) - old_q_value\n",
        "\n",
        "    #update the Q-value for the previous state and action pair\n",
        "    new_q_value = old_q_value + (learning_rate * temporal_difference)\n",
        "    q_values[old_row_index, old_column_index, action_index] = new_q_value\n",
        "\n",
        "    steps = steps+1\n",
        "  t1 = time.process_time() - t0\n",
        "\n",
        "print('Training complete!')\n",
        "\n",
        "#average reward across 100 epochs\n",
        "reward_tot = reward_tot/100\n",
        "steps_tot = steps_tot/100\n",
        "time_ave = time_ave/100"
      ],
      "execution_count": 138,
      "outputs": [
        {
          "output_type": "stream",
          "name": "stdout",
          "text": [
            "Training complete!\n"
          ]
        }
      ]
    },
    {
      "cell_type": "markdown",
      "metadata": {
        "id": "6FVu7FlNk3IA"
      },
      "source": [
        ">> **(b)** Evalute your new Q-learning agent over a 100 epochs, by choosing your actions based on the argmax of the Q-table caluculated in (a) and report the average number of penalities, average time, and average number of steps it took to find the robber with your new Q-learning strategy. "
      ]
    },
    {
      "cell_type": "code",
      "metadata": {
        "id": "zqnDZQ3C-1qE",
        "colab": {
          "base_uri": "https://localhost:8080/"
        },
        "outputId": "97d1974d-0852-4fde-e150-b6c6fd852f2c"
      },
      "source": [
        "print('Average Reward Per Epoch: ' +str(reward_tot))\n",
        "print('Average Steps Per Epoch: ' + str(steps_tot))\n",
        "print('Average Time Per Epoch: ' + str(time_ave)) "
      ],
      "execution_count": 139,
      "outputs": [
        {
          "output_type": "stream",
          "name": "stdout",
          "text": [
            "Average Reward Per Epoch: 74.78\n",
            "Average Steps Per Epoch: 7.17\n",
            "Average Time Per Epoch: 0.0001264716900001872\n"
          ]
        }
      ]
    },
    {
      "cell_type": "markdown",
      "metadata": {
        "id": "CrpB9jKolvH_"
      },
      "source": [
        ">> **(c)** Compare your results with the brute-force method used in Part 2 and comment on the improvement. For instance, try varying graph configurations and look for any signs of improvement in certian instances. "
      ]
    },
    {
      "cell_type": "code",
      "metadata": {
        "id": "pJ2HbYdKbmYV",
        "outputId": "2e6ea212-4707-4a92-9b7e-426aa0ad4fcb",
        "colab": {
          "base_uri": "https://localhost:8080/"
        }
      },
      "source": [
        "#Create a test graph to apply to both the brute force and other method\n",
        "n = 5\n",
        "m = 10\n",
        "g = Graph(n,m)\n",
        "g.make_random_graph()\n",
        "#Run on Brute Force Method\n",
        "Rewards = calculateRewardsTable(g)\n",
        "\n",
        "#TODO: Instantiate your game.\n",
        "#arbitrary start state\n",
        "current_row_index = np.random.randint(m)\n",
        "current_column_index = np.random.randint(m)\n",
        "#continue choosing random row and column indexes until a non-terminal state is identified\n",
        "#(i.e., until the chosen state is a 'white square').\n",
        "while current_row_index == current_column_index:\n",
        "  current_row_index = np.random.randint(m)\n",
        "  current_column_index = np.random.randint(m)\n",
        "\n",
        "start_state = (current_row_index,current_column_index)\n",
        "game = CopsAndRobbers(g,start_state,Rewards)"
      ],
      "execution_count": 140,
      "outputs": [
        {
          "output_type": "stream",
          "name": "stdout",
          "text": [
            "here\n",
            "true\n"
          ]
        }
      ]
    },
    {
      "cell_type": "code",
      "metadata": {
        "id": "l6b7G2mB_FIr",
        "colab": {
          "base_uri": "https://localhost:8080/"
        },
        "outputId": "5c692a34-3763-4d97-c165-2ed93c4619f7"
      },
      "source": [
        "# Simulation loop\n",
        "tot_pen = 0\n",
        "tot_steps = 0\n",
        "#run for 100 iterations with the brute force method \n",
        "t0 = time.process_time()\n",
        "for iter in range(100):\n",
        "  penalty = 0\n",
        "  steps = 0\n",
        "  playing = True\n",
        "  while playing:\n",
        "    #TODO: Get the next state, check for terminal state, and get reward\n",
        "    next_state_cop = random.randint(0, g.m - 1)\n",
        "    if next_state_cop in game.G[game.state[0]]: #is our next_state for the cop valid from our current one\n",
        "      penalty = penalty + game.utility(game.state,next_state_cop) #add penalty from the rewards table\n",
        "      game.result_cop(game.state,next_state_cop)\n",
        "      playing = not game.terminal_test(game.state)\n",
        "      if playing == False:\n",
        "        continue\n",
        "        print(\"playing\")\n",
        "      game.result_rob(game.state)\n",
        "      playing = not game.terminal_test(game.state) #this checks if robber moved \n",
        "      if playing == False:\n",
        "        penalty == penalty + 100 # adds points because the robber landed on the cop \n",
        "        continue\n",
        "      \n",
        "    else:\n",
        "      penalty = penalty + game.utility(game.state,next_state_cop)\n",
        "      game.result_rob(game.state)\n",
        "      playing = not game.terminal_test(game.state)\n",
        "      if playing == False:\n",
        "        penalty = penalty+100\n",
        "    steps = steps+1\n",
        "  tot_steps = steps + tot_steps \n",
        "  tot_pen = penalty + tot_pen\n",
        "    # Make sure to break if you reach the terminal state.\n",
        "tot_pen = tot_pen / 100\n",
        "tot_steps = steps + tot_steps \n",
        "t1 = time.process_time() - t0\n",
        "tot_time = t1 / 100\n",
        "\n",
        "print('Average Penalty Per Epoch: ' +str(tot_pen))\n",
        "print('Average Steps Per Epoch: ' + str(tot_steps))\n",
        "print('Average Time Per Epoch: ' + str(tot_time))"
      ],
      "execution_count": 145,
      "outputs": [
        {
          "output_type": "stream",
          "name": "stdout",
          "text": [
            "Average Penalty Per Epoch: 48.99\n",
            "Average Steps Per Epoch: 713\n",
            "Average Time Per Epoch: 3.80448599999994e-05\n"
          ]
        }
      ]
    },
    {
      "cell_type": "markdown",
      "metadata": {
        "id": "bKRZZPa8fvWl"
      },
      "source": [
        "Using the brute force method with n = 5 and m = 10 we find that the penalty hovers around 40 (significantly lower than with the Q-learning method). Similarly,"
      ]
    },
    {
      "cell_type": "code",
      "metadata": {
        "id": "y3BsldHlfsdd"
      },
      "source": [
        "#Create a test graph to apply to both the brute force and other method\n",
        "n = 5\n",
        "m = 10\n",
        "g = Graph(n,m)\n",
        "g.make_random_graph()\n",
        "#Run on Brute Force Method\n",
        "Rewards = calculateRewardsTable(g)\n",
        "\n",
        "#TODO: Instantiate your game.\n",
        "#arbitrary start state\n",
        "current_row_index = np.random.randint(m)\n",
        "current_column_index = np.random.randint(m)\n",
        "#continue choosing random row and column indexes until a non-terminal state is identified\n",
        "#(i.e., until the chosen state is a 'white square').\n",
        "while current_row_index == current_column_index:\n",
        "  current_row_index = np.random.randint(m)\n",
        "  current_column_index = np.random.randint(m)\n",
        "\n",
        "start_state = (current_row_index,current_column_index)\n",
        "game = CopsAndRobbers(g,start_state,Rewards)"
      ],
      "execution_count": null,
      "outputs": []
    },
    {
      "cell_type": "code",
      "metadata": {
        "id": "wkvgF3UOftzU"
      },
      "source": [
        "# Simulation loop\n",
        "tot_pen = 0\n",
        "#run for 100 iterations with the brute force method \n",
        "for iter in range(100):\n",
        "  penalty = 0\n",
        "  playing = True\n",
        "  while playing:\n",
        "    #TODO: Get the next state, check for terminal state, and get reward\n",
        "    next_state_cop = random.randint(0, g.m - 1)\n",
        "    if next_state_cop in game.G[game.state[0]]: #is our next_state for the cop valid from our current one\n",
        "      penalty = penalty + game.utility(game.state,next_state_cop) #add penalty from the rewards table\n",
        "      game.result_cop(game.state,next_state_cop)\n",
        "      playing = not game.terminal_test(game.state)\n",
        "      if playing == False:\n",
        "        continue\n",
        "        print(\"playing\")\n",
        "      game.result_rob(game.state)\n",
        "      playing = not game.terminal_test(game.state) #this checks if robber moved \n",
        "      if playing == False:\n",
        "        penalty == penalty + 100 # adds points because the robber landed on the cop \n",
        "        continue\n",
        "      \n",
        "    else:\n",
        "      penalty = penalty + game.utility(game.state,next_state_cop)\n",
        "      game.result_rob(game.state)\n",
        "      playing = not game.terminal_test(game.state)\n",
        "      if playing == False:\n",
        "        penalty = penalty+100\n",
        "  tot_pen = penalty +tot_pen\n",
        "    # Make sure to break if you reach the terminal state.\n",
        "tot_pen = tot_pen / 100\n",
        "print(tot_pen)"
      ],
      "execution_count": null,
      "outputs": []
    },
    {
      "cell_type": "markdown",
      "metadata": {
        "id": "ZDZuSjRS944s"
      },
      "source": [
        "> **Bonus** Check that the learned policy satsifies the [Bellman Inequality](https://towardsdatascience.com/mathematical-analysis-of-reinforcement-learning-bellman-equation-ac9f0954e19f), i.e is the computed solution the actual optimal policy?"
      ]
    },
    {
      "cell_type": "code",
      "metadata": {
        "id": "7BKvya8C_GJH"
      },
      "source": [
        "#TODO: Your code goes here."
      ],
      "execution_count": null,
      "outputs": []
    }
  ]
}